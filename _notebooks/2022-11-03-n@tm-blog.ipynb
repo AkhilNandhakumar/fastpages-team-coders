{
 "cells": [
  {
   "cell_type": "markdown",
   "metadata": {},
   "source": [
    "# Night at the Museum - Capture the Moment\n",
    "> N@TM\n",
    "\n",
    "- toc: true \n",
    "- badges: true\n",
    "- comments: true\n",
    "- categories: [jupyter]\n",
    "- title: Night at the Museum - Capture the Moment"
   ]
  },
  {
   "cell_type": "markdown",
   "metadata": {},
   "source": [
    "## Our Project Presentation"
   ]
  },
  {
   "cell_type": "markdown",
   "metadata": {},
   "source": [
    "### General Reflection:\n",
    "- Had a lot of interactions with CSA and CSP students\n",
    "- Many parents also came to demo CodeHoots\n",
    "- Got a lot of feedback, and explained our project to a different student who took notes about it\n",
    "- youngest age that tried our demo was in 3rd grade, oldest was a grandparent!\n",
    "\n",
    "### Feedback Recieved:\n",
    "##### Pros:\n",
    "- Super interactive\n",
    "- CSS animations were very cool\n",
    "- Points and streak feature was interesting\n",
    "- great idea for a CSA website\n",
    "\n",
    "##### Cons:\n",
    "- Some questions had typos\n",
    "- Some questions were hard to understand\n",
    "- The same question would come up multiple times in a row due to the Math.random selecting questions\n",
    "- Font size was too small for parents"
   ]
  },
  {
   "cell_type": "markdown",
   "metadata": {},
   "source": [
    "### Pictures of Us!"
   ]
  },
  {
   "cell_type": "markdown",
   "metadata": {},
   "source": [
    "![](../images/IMG_0076.png)\n",
    "![](../images/IMG_0080.png)\n",
    "![](../images/IMG_0082.png)\n",
    "![](../images/IMG_0085.png)\n"
   ]
  },
  {
   "cell_type": "markdown",
   "metadata": {},
   "source": [
    "### Pictures of Favorites from Other Classes!"
   ]
  },
  {
   "cell_type": "markdown",
   "metadata": {},
   "source": [
    "![](../images/IMG_0087.png)\n",
    "![](../images/IMG_0088.png)\n",
    "![](../images/IMG_0089.png)"
   ]
  }
 ],
 "metadata": {
  "kernelspec": {
   "display_name": "Python 3.10.6 64-bit",
   "language": "python",
   "name": "python3"
  },
  "language_info": {
   "name": "python",
   "version": "3.10.6"
  },
  "orig_nbformat": 4,
  "vscode": {
   "interpreter": {
    "hash": "aee8b7b246df8f9039afb4144a1f6fd8d2ca17a180786b69acc140d282b71a49"
   }
  }
 },
 "nbformat": 4,
 "nbformat_minor": 2
}
