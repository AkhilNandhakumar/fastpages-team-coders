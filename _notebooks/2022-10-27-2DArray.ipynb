{
 "cells": [
  {
   "cell_type": "markdown",
   "metadata": {},
   "source": [
    "# Unit 8 - 2D Arrays\n",
    "> Notes, Hacks, and HW for 2D Arrays.\n",
    "\n",
    "- toc: true \n",
    "- badges: true\n",
    "- comments: true\n",
    "- categories: [jupyter]\n",
    "- title: Unit 8 - 2D Arrays"
   ]
  },
  {
   "cell_type": "markdown",
   "metadata": {},
   "source": [
    "## 8.1.1\n",
    "- Learning Objective: Represent collections of related primitive and object reference data using two dimensional array objects\n",
    "- Array Vocab:\n",
    "    - Array = a data structure used to implement a collection (list) of primitive or object reference data\n",
    "    - Element = a single value in the array\n",
    "    - Index = the position of the element in the array (starts from 0)\n",
    "    - Array Length = the number of elements in the array\n",
    "        - Is public, so can be accessed in any class\n",
    "        - Is also final, so can’t change it after array has been created\n",
    "    - Activity: write code to find the index number of the last element in this list:\n",
    "        - list = a,b,c,d,e,f,g,h\n",
    "        - Index number = list.length - 1\n",
    "- A 2D array is an array of arrays\n",
    "- They can be a better way to store data\n",
    "- Declaring a 2D array:\n",
    "    - DataType[][] nameOf2DArray\n",
    "- Initializing a 2D array\n",
    "    - new DataType[r][c] {}\n",
    "         - r = # of rows \n",
    "            - The # of arrays in the array\n",
    "            - r = list.length\n",
    "        - c = # of columns\n",
    "            - The # of elements in the inner arrays\n",
    "            - c = list[0].length\n",
    "        - Activity: declare and initialize a sample array\n"
   ]
  },
  {
   "cell_type": "markdown",
   "metadata": {},
   "source": [
    "## 8.1.2"
   ]
  },
  {
   "cell_type": "markdown",
   "metadata": {},
   "source": [
    "Warm-up:\n",
    "We will give them an array and they have to print every 3rd character\n"
   ]
  },
  {
   "cell_type": "markdown",
   "metadata": {},
   "source": [
    "## 8.1.3"
   ]
  },
  {
   "cell_type": "markdown",
   "metadata": {},
   "source": [
    "# 8.2.1"
   ]
  },
  {
   "cell_type": "markdown",
   "metadata": {},
   "source": [
    "# 8.2.2"
   ]
  },
  {
   "cell_type": "markdown",
   "metadata": {},
   "source": [
    "# 8.2.3"
   ]
  },
  {
   "cell_type": "code",
   "execution_count": null,
   "metadata": {},
   "outputs": [],
   "source": []
  }
 ],
 "metadata": {
  "kernelspec": {
   "display_name": "Java",
   "language": "java",
   "name": "java"
  },
  "language_info": {
   "name": "java",
   "version": "3.10.2"
  },
  "orig_nbformat": 4,
  "vscode": {
   "interpreter": {
    "hash": "fb105577493444c5032679e33bb5d5b8088492bef3ae548646e733454240bf9c"
   }
  }
 },
 "nbformat": 4,
 "nbformat_minor": 2
}
