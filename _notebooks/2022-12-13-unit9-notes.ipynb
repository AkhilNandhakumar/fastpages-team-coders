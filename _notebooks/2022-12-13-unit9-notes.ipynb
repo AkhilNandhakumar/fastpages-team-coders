{
 "cells": [
  {
   "attachments": {},
   "cell_type": "markdown",
   "metadata": {},
   "source": [
    "# Unit 9 - Inheritance\n",
    "- toc: true\n",
    "- comments: true\n",
    "- categories: [fastpages, lessonhw]"
   ]
  },
  {
   "attachments": {},
   "cell_type": "markdown",
   "metadata": {},
   "source": [
    "### Access Modifiers: Public, Private, Protected\n",
    "- Public: can be accessed from anywhere inside the program, that is, they can be accessed within the same class as well as from outside the different classes\n",
    "- Private: they can be accessed only within the same class where they have been declared, they will not be visible to the outside world\n",
    "- Protected: used to access the methods or data members of a class within the same package as well as outside the package but only through inheritance\n",
    "  - more visibility than private, less than public"
   ]
  },
  {
   "cell_type": "code",
   "execution_count": null,
   "metadata": {},
   "outputs": [],
   "source": [
    "public class Cow {\n",
    "\n",
    "    // instance variables\n",
    "    private String cowType;\n",
    "    private String sound;\n",
    "    protected int numMilkings;\n",
    "\n",
    "    public Cow (String cowType, String sound){\n",
    "        this.numMilkings = 0;\n",
    "        this.cowType = cowType;\n",
    "        this.sound = sound;\n",
    "    }\n",
    "\n",
    "    public int getNumMilkings(){\n",
    "        return numMilkings;\n",
    "    }\n",
    "\n",
    "    public void setSound(String sound){\n",
    "        this.sound = sound;\n",
    "    }\n",
    "\n",
    "    public String toString(){\n",
    "        return \"Type of Cow: \" + cowType + \"; \" + \"Sound: \" + sound + \"; \" + \"Number of Milkings: \" + numMilkings;\n",
    "    }\n",
    "\n",
    "    public static void main(String[] args) {\n",
    "        Cow firstCow = new Cow(\"holstein\", \"moo\");\n",
    "        System.out.println(firstCow);\n",
    "        System.out.println(\"Number of Milkings: \" + firstCow.getNumMilkings());\n",
    "        firstCow.setSound(\"oink!\");\n",
    "        System.out.println(\"Mutated Cow:\" + firstCow);\n",
    "    }\n",
    "}\n",
    "\n",
    "Cow.main(null);"
   ]
  },
  {
   "attachments": {},
   "cell_type": "markdown",
   "metadata": {},
   "source": [
    "### Subclasses\n",
    "* Method to create hierarchy between classes by inheriting from other classes\n",
    "* parent and child classes\n",
    "* extends extend a class to show its inherited and extends functionality\n",
    "* Subclass inherits all methods and fields from superclass, and constructor can be carried out from subclass\n",
    "* super refers to superclass or parent objects"
   ]
  },
  {
   "cell_type": "code",
   "execution_count": null,
   "metadata": {},
   "outputs": [],
   "source": [
    "// Hacks 1\n",
    "private class Plane {\n",
    "    private String model = \"Boeing 737\";\n",
    "    private int age = 3; //two attributes\n",
    "\n",
    "    public void getAge(String model, int age) {\n",
    "        println(\"Age: \" + age);\n",
    "    }\n",
    "}\n",
    "\n",
    "private class Jet extends Plane {\n",
    "    private String color = \"blue\";\n",
    "    \n",
    "}"
   ]
  },
  {
   "attachments": {},
   "cell_type": "markdown",
   "metadata": {},
   "source": [
    "### Overload & Override\n",
    "* Overload happens when there are two methods with same name but different arguments or parameters\n",
    "* Method override happens when child class has the same method that is present in a parent class, overwrites base class method"
   ]
  },
  {
   "cell_type": "code",
   "execution_count": null,
   "metadata": {},
   "outputs": [],
   "source": [
    "//hack 2\n",
    "public class Plane {\n",
    "    private String model = \"Boeing 737\";\n",
    "    private int age = 3;\n",
    "\n",
    "    public void engineBurr() {\n",
    "        System.out.println(\"brrrrrr\");\n",
    "    }\n",
    "}\n",
    "\n",
    "private class Jettison extends Plane {\n",
    "    public Jettison(String model, int age, String color) {\n",
    "        super(model, age); \n",
    "        this.color = color; \n",
    "\n",
    "        @Override\n",
    "        public void engineBurr() {\n",
    "        System.out.println(\"BRRRRRRRRR\"); \n",
    "    }\n",
    "\n",
    "}"
   ]
  },
  {
   "attachments": {},
   "cell_type": "markdown",
   "metadata": {},
   "source": [
    "### Polymorphism\n",
    "* Ability of class to provide different implementations of methods, such as overloading, overriding, late binding"
   ]
  },
  {
   "cell_type": "code",
   "execution_count": null,
   "metadata": {},
   "outputs": [],
   "source": [
    "//Hack 3\n",
    "private class Jets extends Plane {\n",
    "    @Override\n",
    "    public void getAge(String model, int age, String color) {\n",
    "        println(\"Age: \" + age);\n",
    "    }\n",
    "\n",
    "    public void getAge(int age, String color) {\n",
    "        println(\"Age: \" + age);\n",
    "    }\n",
    "}"
   ]
  }
 ],
 "metadata": {
  "kernelspec": {
   "display_name": "Java",
   "language": "java",
   "name": "java"
  },
  "language_info": {
   "codemirror_mode": "java",
   "file_extension": ".jshell",
   "mimetype": "text/x-java-source",
   "name": "java",
   "pygments_lexer": "java",
   "version": "17.0.5+8-Ubuntu-2ubuntu122.04"
  },
  "orig_nbformat": 4
 },
 "nbformat": 4,
 "nbformat_minor": 2
}
